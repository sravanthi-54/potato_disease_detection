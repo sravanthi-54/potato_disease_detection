{
 "cells": [
  {
   "cell_type": "code",
   "execution_count": 2,
   "metadata": {},
   "outputs": [
    {
     "name": "stdout",
     "output_type": "stream",
     "text": [
      "\u001b[1m1/1\u001b[0m \u001b[32m━━━━━━━━━━━━━━━━━━━━\u001b[0m\u001b[37m\u001b[0m \u001b[1m0s\u001b[0m 349ms/step\n"
     ]
    }
   ],
   "source": [
    "import tkinter as tk\n",
    "from tkinter import filedialog, Label, Button\n",
    "import tensorflow as tf\n",
    "import numpy as np\n",
    "from PIL import Image, ImageTk\n",
    "\n",
    "# Load the model once at the start\n",
    "model = tf.keras.models.load_model(\"trained_plant_disease_model.keras\")\n",
    "class_name = ['Potato___Early_blight', 'Potato___Late_blight', 'Potato___healthy']\n",
    "\n",
    "def model_prediction(image_path):\n",
    "    \"\"\"Predict the plant disease from the uploaded image.\"\"\"\n",
    "    image = Image.open(image_path).resize((128, 128))\n",
    "    input_arr = np.array(image)\n",
    "    input_arr = np.expand_dims(input_arr, axis=0)\n",
    "    predictions = model.predict(input_arr)\n",
    "    return class_name[np.argmax(predictions)]\n",
    "\n",
    "def upload_image():\n",
    "    \"\"\"Open file dialog and update the image preview and prediction.\"\"\"\n",
    "    file_path = filedialog.askopenfilename(filetypes=[(\"Image Files\", \"*.jpg;*.png;*.jpeg\")])\n",
    "    if file_path:\n",
    "        # Display the selected image\n",
    "        img = Image.open(file_path)\n",
    "        img.thumbnail((250, 250))  # Resize for display\n",
    "        img = ImageTk.PhotoImage(img)\n",
    "        image_label.config(image=img)\n",
    "        image_label.image = img  # Keep reference to avoid garbage collection\n",
    "\n",
    "        # Get model prediction\n",
    "        prediction = model_prediction(file_path)\n",
    "        result_label.config(text=f\"Prediction: {prediction}\", fg=\"green\", font=(\"Arial\", 14, \"bold\"))\n",
    "\n",
    "def close_app():\n",
    "    \"\"\"Close the application.\"\"\"\n",
    "    root.destroy()\n",
    "\n",
    "# Initialize Tkinter window\n",
    "root = tk.Tk()\n",
    "root.title(\"🌱 Plant Disease Detector 🌿\")\n",
    "root.geometry(\"400x500\")  # Window size\n",
    "root.configure(bg=\"#F0F0F0\")  # Background color\n",
    "\n",
    "# Heading\n",
    "title_label = Label(root, text=\"Plant Disease Detector\", font=(\"Arial\", 16, \"bold\"), bg=\"#F0F0F0\", fg=\"#333\")\n",
    "title_label.pack(pady=10)\n",
    "\n",
    "# Upload Button\n",
    "upload_button = Button(root, text=\"📂 Upload Image\", command=upload_image, font=(\"Arial\", 12), bg=\"#4CAF50\", fg=\"white\", padx=10, pady=5)\n",
    "upload_button.pack(pady=10)\n",
    "\n",
    "# Image Display Label\n",
    "image_label = Label(root, bg=\"white\", width=250, height=250)\n",
    "image_label.pack(pady=10)\n",
    "\n",
    "# Prediction Result Label\n",
    "result_label = Label(root, text=\"Prediction will appear here\", font=(\"Arial\", 12), bg=\"#F0F0F0\", fg=\"blue\")\n",
    "result_label.pack(pady=10)\n",
    "\n",
    "# Exit Button\n",
    "exit_button = Button(root, text=\"❌ Exit\", command=close_app, font=(\"Arial\", 12), bg=\"red\", fg=\"white\", padx=10, pady=5)\n",
    "exit_button.pack(pady=10)\n",
    "\n",
    "# Run Tkinter event loop\n",
    "root.mainloop()\n"
   ]
  }
 ],
 "metadata": {
  "kernelspec": {
   "display_name": "Python 3",
   "language": "python",
   "name": "python3"
  },
  "language_info": {
   "codemirror_mode": {
    "name": "ipython",
    "version": 3
   },
   "file_extension": ".py",
   "mimetype": "text/x-python",
   "name": "python",
   "nbconvert_exporter": "python",
   "pygments_lexer": "ipython3",
   "version": "3.11.9"
  }
 },
 "nbformat": 4,
 "nbformat_minor": 2
}
